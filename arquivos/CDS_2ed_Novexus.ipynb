{
  "nbformat": 4,
  "nbformat_minor": 0,
  "metadata": {
    "colab": {
      "provenance": []
    },
    "kernelspec": {
      "name": "python3",
      "display_name": "Python 3"
    },
    "language_info": {
      "name": "python"
    }
  },
  "cells": [
    {
      "cell_type": "markdown",
      "source": [
        "# Sobre o desafio\n",
        "\n",
        "\"Novexus, uma empresa de telecomunicações líder no mercado, está comprometida em reter seus clientes. Para isso, contratou uma equipe de cientistas de dados para identificar os clientes com maior propensão a abandoná-la.\n",
        "\n",
        "A primeira etapa do projeto será a limpeza e análise exploratória dos dados, para identificar padrões e tendências que podem ajudar a identificar esses clientes. Após essa fase, os cientistas de dados desenvolverão modelos de classificação para identificar os clientes com maior probabilidade de cancelar os serviços.\n",
        "\n",
        "Ao identificar esses clientes, a Novexus poderá tomar medidas para retê-los.\""
      ],
      "metadata": {
        "id": "aa8znOAeCK4F"
      }
    },
    {
      "cell_type": "markdown",
      "source": [
        "# Baixando o banco de dados"
      ],
      "metadata": {
        "id": "_D-AIEEXCS_4"
      }
    },
    {
      "cell_type": "code",
      "execution_count": null,
      "metadata": {
        "id": "aGV51b8Kulec"
      },
      "outputs": [],
      "source": [
        "# Biblioteca a serem usadas\n",
        "\n",
        "import pandas as pd\n",
        "from pandas import json_normalize\n",
        "import numpy as np\n",
        "import json"
      ]
    },
    {
      "cell_type": "code",
      "source": [
        "# Carregar os dados a partir do arquivo JSON\n",
        "\n",
        "with open('/content/drive/MyDrive/Alura/dados/Telco-Customer-Churn.json') as json_file:\n",
        "    data = json.load(json_file)\n",
        "\n",
        "# Transformar os dados em um DataFrame do Pandas\n",
        "\n",
        "df = pd.json_normalize(data)"
      ],
      "metadata": {
        "id": "iSDtfXW0uzQZ"
      },
      "execution_count": null,
      "outputs": []
    },
    {
      "cell_type": "code",
      "source": [
        "# Visualizar as primeiras linhas do DataFrame\n",
        "df.head()"
      ],
      "metadata": {
        "id": "F3ilBVLrPD1T"
      },
      "execution_count": null,
      "outputs": []
    },
    {
      "cell_type": "markdown",
      "source": [
        "# Valores únicos e análise da tipagem dos dados"
      ],
      "metadata": {
        "id": "68Ptg_wkPKCA"
      }
    },
    {
      "cell_type": "code",
      "source": [
        "def valores_unicos_e_tipagem(df):\n",
        "    for col in df.columns:\n",
        "        if df[col].nunique() > 4:\n",
        "            print(f'# Coluna {df[col].dtypes}: {col} - Existem {df[col].nunique()}/{len(df[col])} valores únicos')\n",
        "        else:\n",
        "            print(f'# Coluna {df[col].dtypes}: {col}', df[col].unique())\n",
        "\n",
        "valores_unicos_e_tipagem(df)"
      ],
      "metadata": {
        "id": "rtl9X_BkPR0D"
      },
      "execution_count": null,
      "outputs": []
    },
    {
      "cell_type": "markdown",
      "source": [
        "### **Analise Preliminar**\n",
        "\n",
        "* Temos um total de 7267 clientes na base de dados;\n",
        "* Se obseva uma quantidade de valores faltantes na coluna focal de Churn que precisa ser avaliada para resolver a questão."
      ],
      "metadata": {
        "id": "aaJ4mOq-k_Xh"
      }
    },
    {
      "cell_type": "code",
      "source": [
        "#Viisualizar as colunas categoricas.\n",
        "df.describe(include='object')"
      ],
      "metadata": {
        "id": "OwEhlFjMe5Do"
      },
      "execution_count": null,
      "outputs": []
    },
    {
      "cell_type": "code",
      "source": [
        "# Quantos dados estão nulos na coluna alvo (Churn)\n",
        "\n",
        "n_faltantes = df[df['Churn'] == ''].shape[0]\n",
        "porcentagem_n_faltantes = round((n_faltantes / len(df)) * 100, 2)\n",
        "\n",
        "f'Existem um total de {n_faltantes} dados faltantes na coluna Churn. Isso representa {porcentagem_n_faltantes}% do total de clientes.'"
      ],
      "metadata": {
        "colab": {
          "base_uri": "https://localhost:8080/",
          "height": 35
        },
        "id": "TDG9ZPs0P8Dl",
        "outputId": "5ffe0eeb-6e6e-47e1-cef2-fe9652c6c2da"
      },
      "execution_count": null,
      "outputs": [
        {
          "output_type": "execute_result",
          "data": {
            "text/plain": [
              "'Existem 224 dados faltantes na coluna Churn. Isso representa 3.08% do total'"
            ],
            "application/vnd.google.colaboratory.intrinsic+json": {
              "type": "string"
            }
          },
          "metadata": {},
          "execution_count": 7
        }
      ]
    },
    {
      "cell_type": "code",
      "source": [
        "# Vamos analisar a coluna Charges.Total e transformá-la para valores numéricos:\n",
        "\n",
        "list(df['account.Charges.Total'].head())"
      ],
      "metadata": {
        "colab": {
          "base_uri": "https://localhost:8080/"
        },
        "id": "iJEoKbytQrX1",
        "outputId": "3c1dff00-d064-4d73-fd40-f90d51ee21e4"
      },
      "execution_count": null,
      "outputs": [
        {
          "output_type": "execute_result",
          "data": {
            "text/plain": [
              "['593.3', '542.4', '280.85', '1237.85', '267.4']"
            ]
          },
          "metadata": {},
          "execution_count": 8
        }
      ]
    },
    {
      "cell_type": "code",
      "source": [
        "# Existem dados(df) faltantes, por isso errors = 'coerce'\n",
        "\n",
        "df['account.Charges.Total'] = pd.to_numeric(df['account.Charges.Total'], errors = 'coerce')"
      ],
      "metadata": {
        "id": "iupXqR4kQ3KK"
      },
      "execution_count": null,
      "outputs": []
    },
    {
      "cell_type": "code",
      "source": [
        "df.info()"
      ],
      "metadata": {
        "id": "_eXxVVj-Q_xT"
      },
      "execution_count": null,
      "outputs": []
    },
    {
      "cell_type": "markdown",
      "source": [
        "# Procurando incosistências nos dados, foco a coluna Churn\n"
      ],
      "metadata": {
        "id": "uU3oa-_pD3gR"
      }
    },
    {
      "cell_type": "markdown",
      "source": [
        "# Corrigir as inconsistências nos dados"
      ],
      "metadata": {
        "id": "ehq3WGnlF8PH"
      }
    },
    {
      "cell_type": "code",
      "source": [
        "df_completos = df.copy().loc[~(df['Churn'] == '')].reset_index(drop = True)"
      ],
      "metadata": {
        "id": "Pix-RU8NF7YA"
      },
      "execution_count": null,
      "outputs": []
    },
    {
      "cell_type": "code",
      "source": [
        "df_completos[df_completos['account.Charges.Total'].isnull()][['customer.tenure',\n",
        "                                                              'account.Contract',\n",
        "                                                              'account.Charges.Monthly',\n",
        "                                                              'account.Charges.Total']]"
      ],
      "metadata": {
        "id": "yAqlEf-8Ha4l"
      },
      "execution_count": null,
      "outputs": []
    },
    {
      "cell_type": "code",
      "source": [
        "indice_dados_faltantes = df_completos[\n",
        "    df_completos['account.Charges.Total'].isnull()].index\n",
        "\n",
        "\n",
        "def gasto_total(linha):\n",
        "    if linha['account.Contract'] == 'Two year':\n",
        "        linha['account.Charges.Total'] = linha['account.Charges.Monthly'] * 24\n",
        "        linha['customer.tenure'] = 24\n",
        "    else:\n",
        "        linha['account.Charges.Total'] = linha['account.Charges.Monthly'] * 12\n",
        "        linha['customer.tenure'] = 12\n",
        "    return linha\n",
        "\n",
        "\n",
        "dados_clean = df_completos.copy()\n",
        "dados_clean.loc[indice_dados_faltantes] = dados_clean.loc[\n",
        "    indice_dados_faltantes].apply(gasto_total, axis=1)"
      ],
      "metadata": {
        "id": "5M83Xn1QoGRn"
      },
      "execution_count": null,
      "outputs": []
    },
    {
      "cell_type": "markdown",
      "source": [
        "# Visualização gráfica"
      ],
      "metadata": {
        "id": "SF8tPh0FINEK"
      }
    },
    {
      "cell_type": "code",
      "source": [
        "# Paleta de Cores a ser usado no gráfico\n",
        "\n",
        "paleta_cores = ['#1E1E2E', '#48A24E', '#FF7F50', '#E53935', '#9B59B6']"
      ],
      "metadata": {
        "id": "5tnOzkXtqJq0"
      },
      "execution_count": null,
      "outputs": []
    },
    {
      "cell_type": "code",
      "source": [
        "# Bibliotecas para gerar gráficos para analises visual\n",
        "\n",
        "import seaborn as sns\n",
        "import matplotlib.pyplot as plt\n",
        "\n",
        "plt.rc('font', size=14)\n",
        "plt.rc('axes', labelsize=14, titlesize=14)\n",
        "plt.rc('legend', fontsize=14)\n",
        "plt.rc('xtick', labelsize=12)\n",
        "plt.rc('ytick', labelsize=12)"
      ],
      "metadata": {
        "id": "cmo-HeVoIQYI"
      },
      "execution_count": null,
      "outputs": []
    },
    {
      "cell_type": "code",
      "source": [
        "# Visualizar a distribuição de frequência de diferentes grupos em um conjunto de dados\n",
        "\n",
        "def plot_countplots(data, coluna_hue, grupos, figsize=(12, 8)):\n",
        "    num_grupos = len(grupos)\n",
        "    cols = 2\n",
        "    linhas = int(np.ceil(num_grupos / cols))\n",
        "\n",
        "    fig, axes = plt.subplots(nrows=linhas, ncols=cols, figsize=figsize)\n",
        "    axes = axes.flatten()  # Transforma a matriz de eixos em uma matriz 1D\n",
        "\n",
        "    for i, grupo in enumerate(grupos):\n",
        "        if i < num_grupos:\n",
        "            eixo = axes[i]  # Acessa o eixo diretamente da matriz 1D\n",
        "            sns.countplot(x=grupo,\n",
        "                          data=data,\n",
        "                          hue=coluna_hue,\n",
        "                          palette=paleta_cores,\n",
        "                          alpha=0.8,\n",
        "                          ax=eixo)\n",
        "            sns.despine(right=True, top=True)\n",
        "            eixo.legend([], [], frameon=False)\n",
        "            eixo.set_xlabel(grupo.split('.')[-1])\n",
        "            eixo.set_ylabel('Frequência')\n",
        "\n",
        "    # Remove quaisquer subplots vazios adicionais\n",
        "\n",
        "    for i in range(num_grupos, linhas * cols):\n",
        "        fig.delaxes(axes[i])\n",
        "\n",
        "    # Cria uma legenda fora dos subplots\n",
        "\n",
        "    handles, labels = eixo.get_legend_handles_labels()\n",
        "    legenda = fig.legend(handles,\n",
        "                         labels,\n",
        "                         loc='upper center',\n",
        "                         bbox_to_anchor=(0.5, 1.13),\n",
        "                         ncol=2)\n",
        "    legenda.set_title('Churn')\n",
        "\n",
        "    plt.tight_layout()"
      ],
      "metadata": {
        "id": "Ty6igM73qDAp"
      },
      "execution_count": null,
      "outputs": []
    },
    {
      "cell_type": "code",
      "source": [
        "# Criando base para analise estatistica\n",
        "\n",
        "def adicionar_estatisticas(ax, dados, metrica, texto_y, cor):\n",
        "    valores_estatisticos = dados.groupby('Churn')[metrica].agg(['mean', 'median', 'min', 'max'])\n",
        "\n",
        "    texto = f'Média: {valores_estatisticos[\"mean\"][0]:.2f} | {valores_estatisticos[\"mean\"][1]:.2f}\\n'\n",
        "    texto += f'Mediana: {valores_estatisticos[\"median\"][0]:.2f} | {valores_estatisticos[\"median\"][1]:.2f}\\n'\n",
        "    texto += f'Mínimo: {valores_estatisticos[\"min\"][0]:.2f} | {valores_estatisticos[\"min\"][1]:.2f}\\n'\n",
        "    texto += f'Máximo: {valores_estatisticos[\"max\"][0]:.2f} | {valores_estatisticos[\"max\"][1]:.2f}'\n",
        "\n",
        "    ax.text(0.5, texto_y, texto, transform=ax.transAxes, fontsize=12, color=cor, ha='center')"
      ],
      "metadata": {
        "id": "cvjlFG3pricj"
      },
      "execution_count": null,
      "outputs": []
    },
    {
      "cell_type": "code",
      "source": [
        "# Histogramas\n",
        "\n",
        "num_columns = df_completos.select_dtypes(include=['int64', 'float64']).columns\n",
        "\n",
        "for col in num_columns:\n",
        "    plt.figure(figsize=(8, 4))\n",
        "    sns.histplot(data=df, x=col, bins=30)\n",
        "    plt.title(f'Histograma de {col}')\n",
        "    plt.show()"
      ],
      "metadata": {
        "id": "aIU1ru6gJgVd"
      },
      "execution_count": null,
      "outputs": []
    },
    {
      "cell_type": "markdown",
      "source": [
        "##  Visualizando a coluna Churn"
      ],
      "metadata": {
        "id": "gXC7NZpjr0Hr"
      }
    },
    {
      "cell_type": "code",
      "source": [
        "plt.figure(figsize=(10, 5))\n",
        "\n",
        "sns.countplot(x='Churn', data=dados_clean, palette=paleta_cores, alpha=.8)\n",
        "sns.despine(right=True, top=True)\n",
        "\n",
        "plt.ylabel('Frequência')\n",
        "plt.show()"
      ],
      "metadata": {
        "colab": {
          "base_uri": "https://localhost:8080/",
          "height": 474
        },
        "id": "KgB5D97IqASE",
        "outputId": "1feaa5f5-8cfe-4ecb-c5d5-598b997af884"
      },
      "execution_count": null,
      "outputs": [
        {
          "output_type": "display_data",
          "data": {
            "text/plain": [
              "<Figure size 1000x500 with 1 Axes>"
            ],
            "image/png": "[encoded data removed]"
          },
          "metadata": {}
        }
      ]
    },
    {
      "cell_type": "code",
      "source": [
        "# Contagem de valores de Churn\n",
        "contagem_churn = dados_clean['Churn'].value_counts()\n",
        "contagem_churn"
      ],
      "metadata": {
        "colab": {
          "base_uri": "https://localhost:8080/"
        },
        "id": "78yJaOuzuKyy",
        "outputId": "dea53e42-7404-47a6-8525-c90314bb94f4"
      },
      "execution_count": null,
      "outputs": [
        {
          "output_type": "execute_result",
          "data": {
            "text/plain": [
              "No     5174\n",
              "Yes    1869\n",
              "Name: Churn, dtype: int64"
            ]
          },
          "metadata": {},
          "execution_count": 28
        }
      ]
    },
    {
      "cell_type": "code",
      "source": [
        "# Valores em percentual de Churn\n",
        "dados_clean['Churn'].value_counts(normalize=True).mul(100).round(2).astype(str) + ' %'\n"
      ],
      "metadata": {
        "colab": {
          "base_uri": "https://localhost:8080/"
        },
        "id": "tSm-cDevszIH",
        "outputId": "1c788a1c-a8be-4770-8d52-d27b8b25c48d"
      },
      "execution_count": null,
      "outputs": [
        {
          "output_type": "execute_result",
          "data": {
            "text/plain": [
              "No     73.46%\n",
              "Yes    26.54%\n",
              "Name: Churn, dtype: object"
            ]
          },
          "metadata": {},
          "execution_count": 26
        }
      ]
    },
    {
      "cell_type": "markdown",
      "source": [
        "**Análise preliminar**: Observamos que a maioria esmagadora de nossos clientes, cerca de 73,46%, optou por não cancelar nossos serviços, enquanto apenas 26,54% cancelaram. Desta forma temos um desequilíbrio nos dados, o que significa que qualquer análise ou previsão que fizermos tende a favorecer os clientes que continuam conosco"
      ],
      "metadata": {
        "id": "HFgwqgbnveAf"
      }
    },
    {
      "cell_type": "code",
      "source": [
        "# Substituir os valores vazios na coluna 'Churn' por um valor padrão (por exemplo, 'Unknown')\n",
        "df_completos['Churn'].replace('', 'Unknown', inplace=True)\n",
        "\n",
        "# Gráficos de contagem após correção\n",
        "plt.figure(figsize=(8, 4))\n",
        "sns.countplot(data=df_completos, x='Churn')\n",
        "plt.title('Gráfico de Contagem de Churn após Correção')\n",
        "plt.xticks(rotation=45)\n",
        "plt.show()\n",
        "\n",
        "# Exibir as primeiras linhas do DataFrame após correção\n",
        "df_completos.head()"
      ],
      "metadata": {
        "id": "4jimy7OaNW2t"
      },
      "execution_count": null,
      "outputs": []
    },
    {
      "cell_type": "code",
      "source": [
        "# Contagem de homens e mulheres\n",
        "contagem_genero = df_completos['customer.gender'].value_counts()\n",
        "\n",
        "# Exibir a contagem\n",
        "contagem_genero"
      ],
      "metadata": {
        "colab": {
          "base_uri": "https://localhost:8080/"
        },
        "id": "P0yTKRxu9OvQ",
        "outputId": "200e7843-f8f1-4c99-d813-30ccad6cdd9e"
      },
      "execution_count": null,
      "outputs": [
        {
          "output_type": "execute_result",
          "data": {
            "text/plain": [
              "Male      3555\n",
              "Female    3488\n",
              "Name: customer.gender, dtype: int64"
            ]
          },
          "metadata": {},
          "execution_count": 18
        }
      ]
    },
    {
      "cell_type": "markdown",
      "source": [
        "## Quantidade de churn por gênero"
      ],
      "metadata": {
        "id": "GtNmeVfB-Zm5"
      }
    },
    {
      "cell_type": "code",
      "source": [
        "# Converter valores 'No' e 'Yes' da coluna 'Churn' para 0 e 1\n",
        "df_completos['Churn'] = df_completos['Churn'].replace({'No': 0, 'Yes': 1})\n",
        "\n",
        "# Calcular a quantidade de churn por gênero\n",
        "quantidade_churn_por_genero = df_completos.groupby('customer.gender')['Churn'].sum()\n",
        "\n",
        "print(quantidade_churn_por_genero)"
      ],
      "metadata": {
        "colab": {
          "base_uri": "https://localhost:8080/"
        },
        "id": "e1JUn_zo96V3",
        "outputId": "1cce8a22-edd4-4b13-9ecd-91029f4f991f"
      },
      "execution_count": null,
      "outputs": [
        {
          "output_type": "stream",
          "name": "stdout",
          "text": [
            "customer.gender\n",
            "Female    939\n",
            "Male      930\n",
            "Name: Churn, dtype: int64\n"
          ]
        }
      ]
    },
    {
      "cell_type": "markdown",
      "source": [
        "Análise preliminar: A divisão entre homens e mulheres é próxima, com 930 e 939 cancelamentos, respectivamente. No entanto, é preciso analisar mais dados, como idade, localização e histórico de uso da internet, para ter uma compreensão mais profunda dessa diferença."
      ],
      "metadata": {
        "id": "iNjcyBJv20tK"
      }
    },
    {
      "cell_type": "markdown",
      "source": [
        "## Verificação das características categóricas (também conhecidas como variáveis categóricas ou atributos categóricos) e a variável de resposta \"Churn\""
      ],
      "metadata": {
        "id": "hJRGJ4UAyFsa"
      }
    },
    {
      "cell_type": "markdown",
      "source": [
        "**Informações das características dos CLIENTES em base ao Churn**"
      ],
      "metadata": {
        "id": "Y5exAv5WyQOT"
      }
    },
    {
      "cell_type": "code",
      "source": [
        "# Criando primeiro conjunto de gráficos\n",
        "grupo_1 = dados_clean.filter(like='customer').columns.tolist()[1:-1]\n",
        "\n",
        "# Exibindo Gráfico\n",
        "plot_countplots(df_completos, 'Churn', grupo_1)"
      ],
      "metadata": {
        "id": "6W3v7A0xyhgj"
      },
      "execution_count": null,
      "outputs": []
    },
    {
      "cell_type": "markdown",
      "source": [
        "**Análise preliminar** :\n",
        "\n",
        "- A taxa de cancelamento é praticamente igual para homens e mulheres;\n",
        "- O número de clientes idosos é baixo;\n",
        "- Os clientes com parceiros têm menos probabilidade de cancelar;\n",
        "- Os clientes sem dependentes têm uma taxa de cancelamento maior."
      ],
      "metadata": {
        "id": "7Gq7wwK65IVB"
      }
    },
    {
      "cell_type": "markdown",
      "source": [
        "**Informações das características dos SERVIÇOS TELEFÔNICOS em base ao Churn**"
      ],
      "metadata": {
        "id": "tpQbiqd20pc6"
      }
    },
    {
      "cell_type": "code",
      "source": [
        "# Criando segundo conjunto de gráficos\n",
        "grupo_2 = dados_clean.filter(like='phone').columns.tolist()\n",
        "\n",
        "# Exibindo o gráfico\n",
        "plot_countplots(dados_clean, 'Churn', grupo_2, figsize=(12, 5))"
      ],
      "metadata": {
        "id": "liK9QLA706Dz"
      },
      "execution_count": null,
      "outputs": []
    },
    {
      "cell_type": "markdown",
      "source": [
        "**Análise preliminar**: A taxa de retenção de clientes para o serviço de telefone é maior do que a taxa de cancelamento, mesmo para clientes sem serviço telefônico. A taxa de cancelamento é a mesma para clientes com uma ou várias linhas."
      ],
      "metadata": {
        "id": "gno2SBbF2A7T"
      }
    },
    {
      "cell_type": "markdown",
      "source": [
        "## Informações das características dos SERVIÇOS DE INTERNET"
      ],
      "metadata": {
        "id": "g9EtoEgo2N-4"
      }
    },
    {
      "cell_type": "code",
      "source": [
        "# Criando segundo conjunto de gráficos\n",
        "grupo_3 = dados_clean.filter(like='internet').columns.tolist()\n",
        "\n",
        "# Exibindo o gráfico\n",
        "plot_countplots(dados_clean, 'Churn', grupo_3, figsize=(12, 8))"
      ],
      "metadata": {
        "id": "6Mp-K4YI1I6Y"
      },
      "execution_count": null,
      "outputs": []
    },
    {
      "cell_type": "markdown",
      "source": [
        "**Análise preliminar** : Os clientes mostraram uma preferência por serviços de internet via DSL, com um número menor de clientes optando por cabos de fibra ótica. As taxas de cancelamento de streaming de TV e streaming de filmes foram semelhantes, sugerindo que outros fatores, como preços ou qualidade do serviço, podem ter sido responsáveis por essas decisões.\n",
        "\n",
        "Os serviços de segurança online, backup online, proteção de dispositivos e suporte técnico desempenham um papel fundamental na satisfação dos clientes. Uma quantidade significativa de clientes que não possuíam esses serviços decidiu deixar a Novexus."
      ],
      "metadata": {
        "id": "oAPKuZz13FpI"
      }
    },
    {
      "cell_type": "markdown",
      "source": [
        "## Informações das características dos Financeiros dos Clientes"
      ],
      "metadata": {
        "id": "dT_YGzh93-6L"
      }
    },
    {
      "cell_type": "code",
      "source": [
        "# Criando segundo conjunto de gráficos\n",
        "\n",
        "grupo_4 = dados_clean.filter(like='account').columns.tolist()[:-2]\n",
        "\n",
        "# Gerando os gráficos\n",
        "\n",
        "plot_countplots(dados_clean, 'Churn', grupo_4, figsize=(13, 6))\n",
        "plt.xticks(rotation=20)\n",
        "plt.show()"
      ],
      "metadata": {
        "id": "TxCcjTwT4GnE"
      },
      "execution_count": null,
      "outputs": []
    },
    {
      "cell_type": "markdown",
      "source": [
        "**Análise preliminar** : Os contratos mensais têm uma alta taxa de cancelamento, provavelmente devido a clientes experimentando diferentes serviços, qualidade inconsistente ou problemas de pagamento com cheque eletrônico. A empresa precisa reconsiderar o uso do cheque eletrônico ou eliminá-lo"
      ],
      "metadata": {
        "id": "hDxJDAFw5ump"
      }
    },
    {
      "cell_type": "markdown",
      "source": [
        "## Feature numéricas"
      ],
      "metadata": {
        "id": "-hh2WSeL53FK"
      }
    },
    {
      "cell_type": "code",
      "source": [
        "features_num = dados_clean.select_dtypes(exclude=['object']).iloc[:, 1:]  # Excluindo o SeniorCitizen\n",
        "features_num.head()"
      ],
      "metadata": {
        "id": "P8iryKdG59A1"
      },
      "execution_count": null,
      "outputs": []
    },
    {
      "cell_type": "code",
      "source": [
        "# Adicione um título ao gráfico\n",
        "plt.suptitle(\"Distribuição das Features Numéricas\", fontsize=16)\n",
        "\n",
        "fig, axes = plt.subplots(1, len(features_num.columns), figsize=(15, 5), sharey=True)\n",
        "\n",
        "for i, col in enumerate(features_num.columns):\n",
        "    sns.histplot(dados_clean[col], ax=axes[i], color=paleta_cores[0], kde=False)\n",
        "    sns.despine(right=True, top=True)\n",
        "    col_name = ' '.join(col.split('.')[1:])\n",
        "    axes[i].set_xlabel(col_name)\n",
        "    axes[i].set_ylabel('Frequência')\n",
        "\n",
        "    # Adicione rótulos nos eixos\n",
        "    axes[i].set_xlabel(col_name)\n",
        "    axes[i].set_ylabel('Frequência')\n",
        "\n",
        "# Ajuste os limites dos eixos, se necessário\n",
        "# plt.xlim(xmin, xmax)\n",
        "# plt.ylim(ymin, ymax)\n",
        "\n",
        "# Adicione uma legenda, se necessário\n",
        "# plt.legend(labels=['Label1', 'Label2', ...])\n",
        "\n",
        "# Personalize as barras ou linhas, se necessário\n",
        "# axes[i].plot(..., linewidth=2, linestyle='-', alpha=0.7)\n",
        "\n",
        "# Adicione anotações, se necessário\n",
        "# axes[i].annotate('Anotação', xy=(x, y), xytext=(x_text, y_text),\n",
        "#                  arrowprops=dict(arrowstyle='->', lw=1.5))\n",
        "\n",
        "plt.tight_layout()\n",
        "plt.show()"
      ],
      "metadata": {
        "colab": {
          "base_uri": "https://localhost:8080/",
          "height": 511
        },
        "id": "v1Nm66X_6YXM",
        "outputId": "b9600ece-c3fe-4e9f-f600-e2c1ae31a697"
      },
      "execution_count": null,
      "outputs": [
        {
          "output_type": "display_data",
          "data": {
            "text/plain": [
              "<Figure size 640x480 with 0 Axes>"
            ]
          },
          "metadata": {}
        },
        {
          "output_type": "display_data",
          "data": {
            "text/plain": [
              "<Figure size 1500x500 with 3 Axes>"
            ],
            "image/png": "[encoded data removed]"
          },
          "metadata": {}
        }
      ]
    },
    {
      "cell_type": "markdown",
      "source": [
        "# Boxplot para as variáveis numéricas"
      ],
      "metadata": {
        "id": "O1pEUCdpcxNg"
      }
    },
    {
      "cell_type": "code",
      "source": [
        "dados_clean.select_dtypes(exclude = ['object']).head()"
      ],
      "metadata": {
        "colab": {
          "base_uri": "https://localhost:8080/",
          "height": 206
        },
        "id": "n-7K6RYrdSZ9",
        "outputId": "45b3af98-8bb4-4b40-bcaa-da7fe4f57ce8"
      },
      "execution_count": null,
      "outputs": [
        {
          "output_type": "execute_result",
          "data": {
            "text/plain": [
              "   customer.SeniorCitizen  customer.tenure  account.Charges.Monthly  \\\n",
              "0                       0                9                     65.6   \n",
              "1                       0                9                     59.9   \n",
              "2                       0                4                     73.9   \n",
              "3                       1               13                     98.0   \n",
              "4                       1                3                     83.9   \n",
              "\n",
              "   account.Charges.Total  \n",
              "0                 593.30  \n",
              "1                 542.40  \n",
              "2                 280.85  \n",
              "3                1237.85  \n",
              "4                 267.40  "
            ],
            "text/html": [
              "\n",
              "  <div id=\"df-bea6bd4f-34ad-4855-b86e-b6fd3cb30a1c\" class=\"colab-df-container\">\n",
              "    <div>\n",
              "<style scoped>\n",
              "    .dataframe tbody tr th:only-of-type {\n",
              "        vertical-align: middle;\n",
              "    }\n",
              "\n",
              "    .dataframe tbody tr th {\n",
              "        vertical-align: top;\n",
              "    }\n",
              "\n",
              "    .dataframe thead th {\n",
              "        text-align: right;\n",
              "    }\n",
              "</style>\n",
              "<table border=\"1\" class=\"dataframe\">\n",
              "  <thead>\n",
              "    <tr style=\"text-align: right;\">\n",
              "      <th></th>\n",
              "      <th>customer.SeniorCitizen</th>\n",
              "      <th>customer.tenure</th>\n",
              "      <th>account.Charges.Monthly</th>\n",
              "      <th>account.Charges.Total</th>\n",
              "    </tr>\n",
              "  </thead>\n",
              "  <tbody>\n",
              "    <tr>\n",
              "      <th>0</th>\n",
              "      <td>0</td>\n",
              "      <td>9</td>\n",
              "      <td>65.6</td>\n",
              "      <td>593.30</td>\n",
              "    </tr>\n",
              "    <tr>\n",
              "      <th>1</th>\n",
              "      <td>0</td>\n",
              "      <td>9</td>\n",
              "      <td>59.9</td>\n",
              "      <td>542.40</td>\n",
              "    </tr>\n",
              "    <tr>\n",
              "      <th>2</th>\n",
              "      <td>0</td>\n",
              "      <td>4</td>\n",
              "      <td>73.9</td>\n",
              "      <td>280.85</td>\n",
              "    </tr>\n",
              "    <tr>\n",
              "      <th>3</th>\n",
              "      <td>1</td>\n",
              "      <td>13</td>\n",
              "      <td>98.0</td>\n",
              "      <td>1237.85</td>\n",
              "    </tr>\n",
              "    <tr>\n",
              "      <th>4</th>\n",
              "      <td>1</td>\n",
              "      <td>3</td>\n",
              "      <td>83.9</td>\n",
              "      <td>267.40</td>\n",
              "    </tr>\n",
              "  </tbody>\n",
              "</table>\n",
              "</div>\n",
              "    <div class=\"colab-df-buttons\">\n",
              "\n",
              "  <div class=\"colab-df-container\">\n",
              "    <button class=\"colab-df-convert\" onclick=\"convertToInteractive('df-bea6bd4f-34ad-4855-b86e-b6fd3cb30a1c')\"\n",
              "            title=\"Convert this dataframe to an interactive table.\"\n",
              "            style=\"display:none;\">\n",
              "\n",
              "  <svg xmlns=\"http://www.w3.org/2000/svg\" height=\"24px\" viewBox=\"0 -960 960 960\">\n",
              "    <path d=\"M120-120v-720h720v720H120Zm60-500h600v-160H180v160Zm220 220h160v-160H400v160Zm0 220h160v-160H400v160ZM180-400h160v-160H180v160Zm440 0h160v-160H620v160ZM180-180h160v-160H180v160Zm440 0h160v-160H620v160Z\"/>\n",
              "  </svg>\n",
              "    </button>\n",
              "\n",
              "  <style>\n",
              "    .colab-df-container {\n",
              "      display:flex;\n",
              "      gap: 12px;\n",
              "    }\n",
              "\n",
              "    .colab-df-convert {\n",
              "      background-color: #E8F0FE;\n",
              "      border: none;\n",
              "      border-radius: 50%;\n",
              "      cursor: pointer;\n",
              "      display: none;\n",
              "      fill: #1967D2;\n",
              "      height: 32px;\n",
              "      padding: 0 0 0 0;\n",
              "      width: 32px;\n",
              "    }\n",
              "\n",
              "    .colab-df-convert:hover {\n",
              "      background-color: #E2EBFA;\n",
              "      box-shadow: 0px 1px 2px rgba(60, 64, 67, 0.3), 0px 1px 3px 1px rgba(60, 64, 67, 0.15);\n",
              "      fill: #174EA6;\n",
              "    }\n",
              "\n",
              "    .colab-df-buttons div {\n",
              "      margin-bottom: 4px;\n",
              "    }\n",
              "\n",
              "    [theme=dark] .colab-df-convert {\n",
              "      background-color: #3B4455;\n",
              "      fill: #D2E3FC;\n",
              "    }\n",
              "\n",
              "    [theme=dark] .colab-df-convert:hover {\n",
              "      background-color: #434B5C;\n",
              "      box-shadow: 0px 1px 3px 1px rgba(0, 0, 0, 0.15);\n",
              "      filter: drop-shadow(0px 1px 2px rgba(0, 0, 0, 0.3));\n",
              "      fill: #FFFFFF;\n",
              "    }\n",
              "  </style>\n",
              "\n",
              "    <script>\n",
              "      const buttonEl =\n",
              "        document.querySelector('#df-bea6bd4f-34ad-4855-b86e-b6fd3cb30a1c button.colab-df-convert');\n",
              "      buttonEl.style.display =\n",
              "        google.colab.kernel.accessAllowed ? 'block' : 'none';\n",
              "\n",
              "      async function convertToInteractive(key) {\n",
              "        const element = document.querySelector('#df-bea6bd4f-34ad-4855-b86e-b6fd3cb30a1c');\n",
              "        const dataTable =\n",
              "          await google.colab.kernel.invokeFunction('convertToInteractive',\n",
              "                                                    [key], {});\n",
              "        if (!dataTable) return;\n",
              "\n",
              "        const docLinkHtml = 'Like what you see? Visit the ' +\n",
              "          '<a target=\"_blank\" href=https://colab.research.google.com/notebooks/data_table.ipynb>data table notebook</a>'\n",
              "          + ' to learn more about interactive tables.';\n",
              "        element.innerHTML = '';\n",
              "        dataTable['output_type'] = 'display_data';\n",
              "        await google.colab.output.renderOutput(dataTable, element);\n",
              "        const docLink = document.createElement('div');\n",
              "        docLink.innerHTML = docLinkHtml;\n",
              "        element.appendChild(docLink);\n",
              "      }\n",
              "    </script>\n",
              "  </div>\n",
              "\n",
              "\n",
              "<div id=\"df-0851853d-0a6d-421a-8ed9-ebb6283c5a95\">\n",
              "  <button class=\"colab-df-quickchart\" onclick=\"quickchart('df-0851853d-0a6d-421a-8ed9-ebb6283c5a95')\"\n",
              "            title=\"Suggest charts.\"\n",
              "            style=\"display:none;\">\n",
              "\n",
              "<svg xmlns=\"http://www.w3.org/2000/svg\" height=\"24px\"viewBox=\"0 0 24 24\"\n",
              "     width=\"24px\">\n",
              "    <g>\n",
              "        <path d=\"M19 3H5c-1.1 0-2 .9-2 2v14c0 1.1.9 2 2 2h14c1.1 0 2-.9 2-2V5c0-1.1-.9-2-2-2zM9 17H7v-7h2v7zm4 0h-2V7h2v10zm4 0h-2v-4h2v4z\"/>\n",
              "    </g>\n",
              "</svg>\n",
              "  </button>\n",
              "\n",
              "<style>\n",
              "  .colab-df-quickchart {\n",
              "      --bg-color: #E8F0FE;\n",
              "      --fill-color: #1967D2;\n",
              "      --hover-bg-color: #E2EBFA;\n",
              "      --hover-fill-color: #174EA6;\n",
              "      --disabled-fill-color: #AAA;\n",
              "      --disabled-bg-color: #DDD;\n",
              "  }\n",
              "\n",
              "  [theme=dark] .colab-df-quickchart {\n",
              "      --bg-color: #3B4455;\n",
              "      --fill-color: #D2E3FC;\n",
              "      --hover-bg-color: #434B5C;\n",
              "      --hover-fill-color: #FFFFFF;\n",
              "      --disabled-bg-color: #3B4455;\n",
              "      --disabled-fill-color: #666;\n",
              "  }\n",
              "\n",
              "  .colab-df-quickchart {\n",
              "    background-color: var(--bg-color);\n",
              "    border: none;\n",
              "    border-radius: 50%;\n",
              "    cursor: pointer;\n",
              "    display: none;\n",
              "    fill: var(--fill-color);\n",
              "    height: 32px;\n",
              "    padding: 0;\n",
              "    width: 32px;\n",
              "  }\n",
              "\n",
              "  .colab-df-quickchart:hover {\n",
              "    background-color: var(--hover-bg-color);\n",
              "    box-shadow: 0 1px 2px rgba(60, 64, 67, 0.3), 0 1px 3px 1px rgba(60, 64, 67, 0.15);\n",
              "    fill: var(--button-hover-fill-color);\n",
              "  }\n",
              "\n",
              "  .colab-df-quickchart-complete:disabled,\n",
              "  .colab-df-quickchart-complete:disabled:hover {\n",
              "    background-color: var(--disabled-bg-color);\n",
              "    fill: var(--disabled-fill-color);\n",
              "    box-shadow: none;\n",
              "  }\n",
              "\n",
              "  .colab-df-spinner {\n",
              "    border: 2px solid var(--fill-color);\n",
              "    border-color: transparent;\n",
              "    border-bottom-color: var(--fill-color);\n",
              "    animation:\n",
              "      spin 1s steps(1) infinite;\n",
              "  }\n",
              "\n",
              "  @keyframes spin {\n",
              "    0% {\n",
              "      border-color: transparent;\n",
              "      border-bottom-color: var(--fill-color);\n",
              "      border-left-color: var(--fill-color);\n",
              "    }\n",
              "    20% {\n",
              "      border-color: transparent;\n",
              "      border-left-color: var(--fill-color);\n",
              "      border-top-color: var(--fill-color);\n",
              "    }\n",
              "    30% {\n",
              "      border-color: transparent;\n",
              "      border-left-color: var(--fill-color);\n",
              "      border-top-color: var(--fill-color);\n",
              "      border-right-color: var(--fill-color);\n",
              "    }\n",
              "    40% {\n",
              "      border-color: transparent;\n",
              "      border-right-color: var(--fill-color);\n",
              "      border-top-color: var(--fill-color);\n",
              "    }\n",
              "    60% {\n",
              "      border-color: transparent;\n",
              "      border-right-color: var(--fill-color);\n",
              "    }\n",
              "    80% {\n",
              "      border-color: transparent;\n",
              "      border-right-color: var(--fill-color);\n",
              "      border-bottom-color: var(--fill-color);\n",
              "    }\n",
              "    90% {\n",
              "      border-color: transparent;\n",
              "      border-bottom-color: var(--fill-color);\n",
              "    }\n",
              "  }\n",
              "</style>\n",
              "\n",
              "  <script>\n",
              "    async function quickchart(key) {\n",
              "      const quickchartButtonEl =\n",
              "        document.querySelector('#' + key + ' button');\n",
              "      quickchartButtonEl.disabled = true;  // To prevent multiple clicks.\n",
              "      quickchartButtonEl.classList.add('colab-df-spinner');\n",
              "      try {\n",
              "        const charts = await google.colab.kernel.invokeFunction(\n",
              "            'suggestCharts', [key], {});\n",
              "      } catch (error) {\n",
              "        console.error('Error during call to suggestCharts:', error);\n",
              "      }\n",
              "      quickchartButtonEl.classList.remove('colab-df-spinner');\n",
              "      quickchartButtonEl.classList.add('colab-df-quickchart-complete');\n",
              "    }\n",
              "    (() => {\n",
              "      let quickchartButtonEl =\n",
              "        document.querySelector('#df-0851853d-0a6d-421a-8ed9-ebb6283c5a95 button');\n",
              "      quickchartButtonEl.style.display =\n",
              "        google.colab.kernel.accessAllowed ? 'block' : 'none';\n",
              "    })();\n",
              "  </script>\n",
              "</div>\n",
              "    </div>\n",
              "  </div>\n"
            ]
          },
          "metadata": {},
          "execution_count": 49
        }
      ]
    },
    {
      "cell_type": "code",
      "source": [
        "fig, axes = plt.subplots(1, len(features_num.columns), figsize=(13, 7))\n",
        "\n",
        "for i, col in enumerate(features_num.columns):\n",
        "    boxplot = sns.boxplot(x='Churn', y=col, data=dados_clean, ax=axes[i], palette=paleta_cores)\n",
        "    for patch in boxplot.artists:\n",
        "        patch.set_alpha(.8)\n",
        "    col_name = ' '.join(col.split('.')[1:])\n",
        "\n",
        "    mediana = dados_clean.groupby('Churn')[col].median()\n",
        "    media = dados_clean.groupby('Churn')[col].mean()\n",
        "    minimo = dados_clean.groupby('Churn')[col].min()\n",
        "    maximo = dados_clean.groupby('Churn')[col].max()\n",
        "\n",
        "    adicionar_estatisticas(axes[i], dados_clean, col, -0.3, paleta_cores[-1])\n",
        "\n",
        "plt.tight_layout()\n",
        "plt.show()"
      ],
      "metadata": {
        "colab": {
          "base_uri": "https://localhost:8080/",
          "height": 680
        },
        "id": "zK8OPK9e8K9l",
        "outputId": "bf74ee05-4c20-464b-9dfe-a0771bd5681e"
      },
      "execution_count": null,
      "outputs": [
        {
          "output_type": "display_data",
          "data": {
            "text/plain": [
              "<Figure size 1300x700 with 3 Axes>"
            ],
            "image/png": "[encoded data removed]"
          },
          "metadata": {}
        }
      ]
    },
    {
      "cell_type": "markdown",
      "source": [
        "**Análise preliminar** : Os clientes que permaneceram com a empresa tiveram, em média, contratos mais longos do que os que cancelaram. Por outro lado, os clientes que cancelaram tiveram, em média, gastos mensais mais elevados do que os que permaneceram. Isso pode ser devido a uma variedade de fatores, como diferentes tipos de serviços utilizados ou problemas de satisfação com a empresa.\n",
        "\n",
        "Os clientes que cancelaram tiveram, em média, gastos totais mais baixos do que os que permaneceram. Isso sugere que, embora os clientes com despesas mais elevadas possam ser mais propensos a cancelar, eles podem não representar maior valor a longo prazo para a empresa"
      ],
      "metadata": {
        "id": "GPbWCtzE8X-h"
      }
    },
    {
      "cell_type": "code",
      "source": [],
      "metadata": {
        "id": "MLP--Vsg_mrP"
      },
      "execution_count": null,
      "outputs": []
    }
  ]
}
